{
 "cells": [
  {
   "cell_type": "code",
   "execution_count": 1,
   "metadata": {},
   "outputs": [
    {
     "name": "stdout",
     "output_type": "stream",
     "text": [
      "/home/lparolari/Projects/weakvg++\n"
     ]
    }
   ],
   "source": [
    "# move to the root directory, and using at working directory\n",
    "%cd .."
   ]
  },
  {
   "cell_type": "code",
   "execution_count": 20,
   "metadata": {},
   "outputs": [],
   "source": [
    "import torch\n",
    "from torch.nn.functional import cosine_similarity\n",
    "\n",
    "from weakvg.model import WordEmbedding\n",
    "from weakvg.wordvec import get_wordvec\n",
    "\n",
    "\n",
    "wordvec, vocab = get_wordvec()\n",
    "we = WordEmbedding(wordvec, vocab)\n",
    "\n",
    "\n",
    "def print_similarity(words):\n",
    "    index = torch.tensor([vocab[w] for w in words])\n",
    "\n",
    "    emb = we(index)\n",
    "\n",
    "    emb = emb.unsqueeze(0).repeat(emb.size(0), 1, 1)\n",
    "\n",
    "    sim = cosine_similarity(emb, emb.transpose(0, 1), dim=-1)\n",
    "\n",
    "    print(\"word1 | word2 | similarity\")\n",
    "    print(\"--- | --- | ---\")\n",
    "    for i in range(len(words)):\n",
    "        for j in range(i + 1, len(words)):\n",
    "            print(f\"{words[i]} | {words[j]} | {sim[i, j].item():.4f}\")\n",
    "    print()"
   ]
  },
  {
   "cell_type": "code",
   "execution_count": 22,
   "metadata": {},
   "outputs": [
    {
     "name": "stdout",
     "output_type": "stream",
     "text": [
      "word1 | word2 | similarity\n",
      "--- | --- | ---\n",
      "man | woman | 0.6999\n",
      "man | person | 0.6443\n",
      "man | adult | 0.2288\n",
      "man | child | 0.3722\n",
      "woman | person | 0.6171\n",
      "woman | adult | 0.3537\n",
      "woman | child | 0.5336\n",
      "person | adult | 0.3362\n",
      "person | child | 0.4732\n",
      "adult | child | 0.5210\n",
      "\n"
     ]
    }
   ],
   "source": [
    "print_similarity([\"man\", \"woman\", \"person\", \"adult\", \"child\"])"
   ]
  },
  {
   "cell_type": "code",
   "execution_count": 23,
   "metadata": {},
   "outputs": [
    {
     "name": "stdout",
     "output_type": "stream",
     "text": [
      "word1 | word2 | similarity\n",
      "--- | --- | ---\n",
      "man | men | 0.5820\n",
      "man | woman | 0.6999\n",
      "man | women | 0.3295\n",
      "man | person | 0.6443\n",
      "man | people | 0.4434\n",
      "men | woman | 0.4836\n",
      "men | women | 0.7657\n",
      "men | person | 0.3797\n",
      "men | people | 0.4873\n",
      "woman | women | 0.6048\n",
      "woman | person | 0.6171\n",
      "woman | people | 0.4174\n",
      "women | person | 0.3091\n",
      "women | people | 0.4911\n",
      "person | people | 0.5712\n",
      "\n"
     ]
    }
   ],
   "source": [
    "print_similarity([\"man\", \"men\", \"woman\", \"women\", \"person\", \"people\"])"
   ]
  },
  {
   "cell_type": "code",
   "execution_count": 24,
   "metadata": {},
   "outputs": [
    {
     "name": "stdout",
     "output_type": "stream",
     "text": [
      "word1 | word2 | similarity\n",
      "--- | --- | ---\n",
      "child | children | 0.7450\n",
      "child | toddler | 0.4876\n",
      "child | toddlers | 0.3744\n",
      "child | baby | 0.5866\n",
      "child | babies | 0.5401\n",
      "children | toddler | 0.4096\n",
      "children | toddlers | 0.5637\n",
      "children | baby | 0.4823\n",
      "children | babies | 0.6090\n",
      "toddler | toddlers | 0.6147\n",
      "toddler | baby | 0.5102\n",
      "toddler | babies | 0.4365\n",
      "toddlers | baby | 0.4585\n",
      "toddlers | babies | 0.6496\n",
      "baby | babies | 0.7318\n",
      "\n"
     ]
    }
   ],
   "source": [
    "print_similarity([\"child\", \"children\", \"toddler\", \"toddlers\", \"baby\", \"babies\"])"
   ]
  }
 ],
 "metadata": {
  "kernelspec": {
   "display_name": "weakvg++",
   "language": "python",
   "name": "python3"
  },
  "language_info": {
   "codemirror_mode": {
    "name": "ipython",
    "version": 3
   },
   "file_extension": ".py",
   "mimetype": "text/x-python",
   "name": "python",
   "nbconvert_exporter": "python",
   "pygments_lexer": "ipython3",
   "version": "3.10.9"
  },
  "orig_nbformat": 4,
  "vscode": {
   "interpreter": {
    "hash": "8d25178f22cbcaa54c836974e9a631275118c1a9bcafde58bcb1df7fbcfdba97"
   }
  }
 },
 "nbformat": 4,
 "nbformat_minor": 2
}
